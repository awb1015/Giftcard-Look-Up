{
 "cells": [
  {
   "cell_type": "code",
   "execution_count": 87,
   "metadata": {
    "collapsed": false
   },
   "outputs": [
    {
     "name": "stdout",
     "output_type": "stream",
     "text": [
      "Website retrieved\n",
      "Parsing balance\n",
      "26.95\n"
     ]
    }
   ],
   "source": [
    "import requests\n",
    "from bs4 import BeautifulSoup\n",
    "from decimal import Decimal\n",
    "\n",
    "stores = [\"HM\", \"Starbucks\"]\n",
    "\n",
    "def findBalanceStarbucks(cardNum, cardPin):\n",
    "    webAddress = 'https://www.starbucks.co.uk/card/guestbalance'\n",
    "    headers = {'User-Agent': 'Mozilla/5.0 (Windows NT 6.1; Win64; x64) AppleWebKit/537.36 (KHTML, like Gecko) Chrome/61.0.3163.100 Safari/537.36'}\n",
    "    data = {'Card.Number':cardNum, 'Card.Pin':cardPin}\n",
    "    req = requests.post(webAddress, data = data, headers = headers)\n",
    "    print \"Website retrieved\"\n",
    "    print \"Parsing balance\"\n",
    "    parsedSite=BeautifulSoup(req.text)\n",
    "    balance=parsedSite.find(class_=\"fetch_balance_value\").text\n",
    "    return Decimal(balance[1:])\n",
    "    \n",
    "def findBalanceHM(cardNum, cardPin):\n",
    "    webAddress = 'https://www2.hm.com/en_gb/checkout/giftcard/balance'\n",
    "    headers = {'User-Agent': 'Mozilla/5.0 (Windows NT 6.1; Win64; x64) AppleWebKit/537.36 (KHTML, like Gecko) Chrome/61.0.3163.100 Safari/537.36',\n",
    "               'X-Requested-With':'XMLHttpRequest', \n",
    "               'Referer':'https://www2.hm.com/en_gb/customer-service/gift-card/check-your-balance.html'}\n",
    "    data = {'cardNumber':cardNum, 'cardPin':cardPin}\n",
    "    req = requests.post(webAddress, data = data, headers = headers)\n",
    "    print \"Website retrieved\"\n",
    "    print req.text\n",
    "    return 0\n",
    "\n",
    "storeIndex = 63      \n",
    "giftcardNumber = 6141779582347640\n",
    "giftcardPin = 666891\n",
    "print findBalanceStarbucks(giftcardNumber, giftcardPin)\n",
    "#print findBalanceHM(giftcardNumber, giftcardPin)\n"
   ]
  },
  {
   "cell_type": "code",
   "execution_count": null,
   "metadata": {
    "collapsed": true
   },
   "outputs": [],
   "source": []
  },
  {
   "cell_type": "code",
   "execution_count": null,
   "metadata": {
    "collapsed": true
   },
   "outputs": [],
   "source": []
  }
 ],
 "metadata": {
  "kernelspec": {
   "display_name": "Python 2",
   "language": "python",
   "name": "python2"
  },
  "language_info": {
   "codemirror_mode": {
    "name": "ipython",
    "version": 2
   },
   "file_extension": ".py",
   "mimetype": "text/x-python",
   "name": "python",
   "nbconvert_exporter": "python",
   "pygments_lexer": "ipython2",
   "version": "2.7.13"
  }
 },
 "nbformat": 4,
 "nbformat_minor": 2
}
