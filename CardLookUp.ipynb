{
 "cells": [
  {
   "cell_type": "code",
   "execution_count": 177,
   "metadata": {
    "collapsed": false
   },
   "outputs": [
    {
     "name": "stdout",
     "output_type": "stream",
     "text": [
      "The card number must be 16 digits\n",
      "-1\n"
     ]
    }
   ],
   "source": [
    "import requests\n",
    "from bs4 import BeautifulSoup\n",
    "from decimal import Decimal\n",
    "\n",
    "def findBalanceStarbucks(cardNum, cardPin):\n",
    "    #Validate input data\n",
    "    if(len(str(cardNum))!=16 or not str(cardNum).isdigit()):\n",
    "        print \"The card number must be 16 digits\"\n",
    "        return -1\n",
    "    if(len(str(cardPin))!=8 or not str(cardNum).isdigit()):\n",
    "        print \"The card PIN must be 8 digits\"\n",
    "        return -1\n",
    "    webAddress = 'https://www.starbucks.co.uk/card/guestbalance'\n",
    "    headers = {'User-Agent': 'Mozilla/5.0 (Windows NT 6.1; Win64; x64) AppleWebKit/537.36 (KHTML, like Gecko) Chrome/61.0.3163.100 Safari/537.36'}\n",
    "    data = {'Card.Number':cardNum, 'Card.Pin':cardPin}\n",
    "    req = requests.post(webAddress, data = data, headers = headers)\n",
    "    print \"Website retrieved\"\n",
    "    print \"Parsing balance\"\n",
    "    parsedSite=BeautifulSoup(req.text)\n",
    "    balance=parsedSite.find(class_=\"fetch_balance_value\").text\n",
    "    return Decimal(balance[1:])\n",
    "    \n",
    "def findBalanceHM(cardNum, cardPin):\n",
    "    #Validate input data\n",
    "    webAddress = 'https://www2.hm.com/en_gb/checkout/giftcard/balance'\n",
    "    headers = {'User-Agent': 'Mozilla/5.0 (Windows NT 6.1; Win64; x64) AppleWebKit/537.36 (KHTML, like Gecko) Chrome/61.0.3163.100 Safari/537.36',\n",
    "               'X-Requested-With':'XMLHttpRequest', \n",
    "               'Referer':'https://www2.hm.com/en_gb/customer-service/gift-card/check-your-balance.html',\n",
    "               'Content-Type': 'application/json; charset=UTF-8'\n",
    "               }\n",
    "    data = json.dumps({'cardNumber':cardNum, 'cardPin':cardPin})\n",
    "    req = requests.post(webAddress, data = data, headers = headers)\n",
    "    print \"Website retrieved\"\n",
    "    print \"Parsing balance\"\n",
    "    #Error Checking for card\n",
    "    pythonFriendlyFormat = json.loads(req.text)\n",
    "    if(req.text.find('invalid')!=-1):\n",
    "        #Return the website error message\n",
    "        print pythonFriendlyFormat['displayMessage']\n",
    "        return -1\n",
    "    elif(req.text.find('balance')!=-1):\n",
    "        balance = pythonFriendlyFormat['balanceAmount']\n",
    "        return Decimal(balance)\n",
    "    else:\n",
    "        print \"An unknown error has occured\"\n",
    "        return -1\n",
    "\n",
    "def getBalance(storeIndex, cardNumber, cardPin):\n",
    "    stores = [\"HM\", \"Starbucks\"]\n",
    "    #Should be safe enough to use eval as no user supplied code can actually be executed\n",
    "    return eval('findBalance'+stores[storeIndex]+'(cardNumber, cardPin)')\n",
    "\n",
    "#storeIndex = 1\n",
    "#giftcardNumber = 6141779582347640\n",
    "#giftcardPin = 63666891\n",
    "#print getBalance(storeIndex, giftcardNumber, giftcardPin)\n"
   ]
  },
  {
   "cell_type": "code",
   "execution_count": null,
   "metadata": {
    "collapsed": true
   },
   "outputs": [],
   "source": []
  },
  {
   "cell_type": "code",
   "execution_count": null,
   "metadata": {
    "collapsed": true
   },
   "outputs": [],
   "source": []
  }
 ],
 "metadata": {
  "kernelspec": {
   "display_name": "Python 2",
   "language": "python",
   "name": "python2"
  },
  "language_info": {
   "codemirror_mode": {
    "name": "ipython",
    "version": 2
   },
   "file_extension": ".py",
   "mimetype": "text/x-python",
   "name": "python",
   "nbconvert_exporter": "python",
   "pygments_lexer": "ipython2",
   "version": "2.7.13"
  }
 },
 "nbformat": 4,
 "nbformat_minor": 2
}
