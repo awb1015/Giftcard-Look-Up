{
 "cells": [
  {
   "cell_type": "code",
   "execution_count": 6,
   "metadata": {
    "collapsed": false
   },
   "outputs": [],
   "source": [
    "import Tkinter as tkinter\n",
    "import tkMessageBox\n",
    "\n",
    "window = tkinter.Tk()\n",
    "\n",
    "def addEntry():\n",
    "    #Use our API. Above we need store/cardNumber/cardPin\n",
    "    #balance = getBalance(store, cardNumber, cardPin)\n",
    "    #if(balance==-1):\n",
    "        #tkMessageBox.showerror(\"Error\",\"This card could not be added\")\n",
    "        #Let's find a way to use the message from the API here\n",
    "    #Create Tuple with data\n",
    "    #else:\n",
    "        #giftCards.append([store, cardNumber, cardPin, balance])\n",
    "    return 0\n",
    "\n",
    "def delEntry():\n",
    "    return 0\n",
    "\n",
    "def updateEntries():\n",
    "    for i in range(0, len(giftCards)):\n",
    "        store = giftCards[i,0]\n",
    "        cardNumber = giftCards[i, 1]\n",
    "        cardPin = giftCards[i, 2]\n",
    "        giftCards[i, 3] = getBalance(store, cardNumber, cardPin)\n",
    "\n",
    "def openlist():\n",
    "    #Clear current entries\n",
    "    #del giftCards[:]\n",
    "    #Open a text file/use built in file browser\n",
    "    \n",
    "    #Run a loop of adding entries\n",
    "    \n",
    "    return 0\n",
    "\n",
    "def savelist():\n",
    "    #Save CSV to text file\n",
    "    #\n",
    "    return 0\n",
    "    \n",
    "#Create File Menu Type things\n",
    "#File\n",
    "menubar = tkinter.Menu(window)\n",
    "filemenu = tkinter.Menu(menubar, tearoff=0)\n",
    "filemenu.add_command(label=\"Open\", command=openlist)\n",
    "filemenu.add_command(label=\"Save\", command=savelist)\n",
    "filemenu.add_command(label=\"Exit\", command=window.quit)\n",
    "menubar.add_cascade(label=\"File\", menu=filemenu)\n",
    "window.config(menu=menubar)\n",
    "#Help\n",
    "helpmenu = tkinter.Menu(menubar, tearoff =0)\n",
    "helpmenu.add_command(label=\"About\")\n",
    "menubar.add_cascade(label=\"Help\", menu=helpmenu)\n",
    "\n",
    "\n",
    "#Buttons\n",
    "b = tkinter.Button(window, text=\"Add\", command=addEntry)\n",
    "b.pack()\n",
    "\n",
    "\n",
    "#Array for data\n",
    "giftCards = []\n",
    "\n",
    "window.mainloop()"
   ]
  },
  {
   "cell_type": "code",
   "execution_count": null,
   "metadata": {
    "collapsed": true
   },
   "outputs": [],
   "source": []
  },
  {
   "cell_type": "code",
   "execution_count": null,
   "metadata": {
    "collapsed": true
   },
   "outputs": [],
   "source": []
  }
 ],
 "metadata": {
  "kernelspec": {
   "display_name": "Python 2",
   "language": "python",
   "name": "python2"
  },
  "language_info": {
   "codemirror_mode": {
    "name": "ipython",
    "version": 2
   },
   "file_extension": ".py",
   "mimetype": "text/x-python",
   "name": "python",
   "nbconvert_exporter": "python",
   "pygments_lexer": "ipython2",
   "version": "2.7.13"
  }
 },
 "nbformat": 4,
 "nbformat_minor": 2
}
