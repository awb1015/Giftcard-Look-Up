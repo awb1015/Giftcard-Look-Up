{
 "cells": [
  {
   "cell_type": "code",
   "execution_count": 26,
   "metadata": {
    "collapsed": false
   },
   "outputs": [
    {
     "name": "stdout",
     "output_type": "stream",
     "text": [
      "Website Retrieved\n"
     ]
    }
   ],
   "source": [
    "from urllib2 import Request, urlopen, URLError, HTTPError\n",
    "import urllib\n",
    "from bs4 import BeautifulSoup\n",
    "\n",
    "giftcardNumber = 10\n",
    "giftcardPin = 1234\n",
    "stores = [\"HM\", \"TopShop\", \"Zara\"]\n",
    "storeIndex = 1\n",
    "#The URL map should also contain the appropriate tags for each for where the balance lives in the scraped website\n",
    "storeURLMap = {\"HM\":\"https://www2.hm.com/en_gb/customer-service/gift-card/check-your-balance.html\", \"TopShop\":\"http://www.topshop.com/en/tsuk/category/gift-card-balance-enquiry-2953315/home?geoip=noredirect\" }\n",
    "\n",
    "#Now construct URL and retrieve\n",
    "#For now, assume everything works like TopShop\n",
    "targetURL = storeURLMap[stores[storeIndex]] #AND SOME KIND OF POST FROM THE HEADER\n",
    "\n",
    "def createURL(storeURL, cardNumber, cardPin):\n",
    "    print 'Nothing here yet'\n",
    "    #Watch headers from browser and we'll generate the post here\n",
    "    #The format of the post depends on the URL\n",
    "    \n",
    "    #return URL\n",
    "\n",
    "#Need to add a start and end tag for scraping\n",
    "def findInPage(webAddress):\n",
    "    headers = {'User-Agent': 'Mozilla/5.0 (Windows NT 6.1; Win64; x64) AppleWebKit/537.36 (KHTML, like Gecko) Chrome/61.0.3163.100 Safari/537.36'}\n",
    "    req = Request(webAddress, headers = headers)\n",
    "    try:\n",
    "        response = urlopen(req)\n",
    "    except HTTPError as e:\n",
    "        print 'The server couldn\\'t fulfill the request.'\n",
    "        print 'Error code: ', e.code\n",
    "    except URLError as e:\n",
    "        print 'We failed to reach a server.'\n",
    "        print 'Reason: ', e.reason\n",
    "    else:\n",
    "        print 'Website Retrieved'\n",
    "        #Now parse with beautiful soup and find specific tags\n",
    "        parsedSite = BeautifulSoup(response, ‘html.parser’)\n",
    "        \n",
    "address = 'https://www2.hm.com/en_gb/customer-service/gift-card/check-your-balance.html'\n",
    "findInPage(address)\n",
    "\n"
   ]
  },
  {
   "cell_type": "code",
   "execution_count": null,
   "metadata": {
    "collapsed": true
   },
   "outputs": [],
   "source": []
  }
 ],
 "metadata": {
  "kernelspec": {
   "display_name": "Python 2",
   "language": "python",
   "name": "python2"
  },
  "language_info": {
   "codemirror_mode": {
    "name": "ipython",
    "version": 2
   },
   "file_extension": ".py",
   "mimetype": "text/x-python",
   "name": "python",
   "nbconvert_exporter": "python",
   "pygments_lexer": "ipython2",
   "version": "2.7.13"
  }
 },
 "nbformat": 4,
 "nbformat_minor": 2
}
